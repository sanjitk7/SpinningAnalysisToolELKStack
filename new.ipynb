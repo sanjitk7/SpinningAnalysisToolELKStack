{
 "cells": [
  {
   "cell_type": "code",
   "execution_count": 25,
   "metadata": {},
   "outputs": [],
   "source": [
    "import csv\n",
    "import json\n",
    "import requests\n",
    "from elasticsearch import Elasticsearch\n",
    "es = Elasticsearch([{'host':'localhost', 'port':9200}])"
   ]
  },
  {
   "cell_type": "code",
   "execution_count": 26,
   "metadata": {},
   "outputs": [],
   "source": [
    "sample_json=[\n",
    "  {\n",
    "    \"MBO_waste\": 16,\n",
    "    \"color\": \"RED\",\n",
    "    \"count\": \"20S\",\n",
    "    \"cur_production\": 800.2,\n",
    "    \"date\": \"15.06.19\",\n",
    "    \"eb_units\": 109,\n",
    "    \"filter_waste\": 23,\n",
    "    \"flat_waste\": 65,\n",
    "    \"godown\": \"A\",\n",
    "    \"machine_id\": \"C1\",\n",
    "    \"machine_type\": \"CARDING\",\n",
    "    \"no of sider\": 2,\n",
    "    \"powder_waste\": 24,\n",
    "    \"rotor_waste\": 0,\n",
    "    \"running_hours\": 11,\n",
    "    \"shift\": \"A\",\n",
    "    \"sider_name1\": \"RAVI\",\n",
    "    \"sider_name2\": \"SHEELA\",\n",
    "    \"sider_name3\": 0,\n",
    "    \"slaver_waste\": 1.2,\n",
    "    \"sweep_waste\": 21,\n",
    "    \"yarn_wasgte\": 0\n",
    "  },\n",
    "  {\n",
    "    \"MBO_waste\": 0,\n",
    "    \"color\": \"BLACK\",\n",
    "    \"count\": \"20S\",\n",
    "    \"cur_production\": 100,\n",
    "    \"date\": \"15.06.20\",\n",
    "    \"eb_units\": 15,\n",
    "    \"filter_waste\": 0,\n",
    "    \"flat_waste\": 0,\n",
    "    \"godown\": \"A\",\n",
    "    \"machine_id\": \"C1\",\n",
    "    \"machine_type\": \"CARDING\",\n",
    "    \"no of sider\": 2,\n",
    "    \"powder_waste\": 0,\n",
    "    \"rotor_waste\": 0,\n",
    "    \"running_hours\": 1,\n",
    "    \"shift\": \"\",\n",
    "    \"sider_name1\": \"RAVI\",\n",
    "    \"sider_name2\": \"SHEELA\",\n",
    "    \"sider_name3\": \"\",\n",
    "    \"slaver_waste\": 0.22,\n",
    "    \"sweep_waste\": 0,\n",
    "    \"yarn_wasgte\": 0\n",
    "  },\n",
    "  {\n",
    "    \"MBO_waste\": 18,\n",
    "    \"color\": \"BLACK\",\n",
    "    \"count\": \"20S\",\n",
    "    \"cur_production\": 700,\n",
    "    \"date\": \"15.06.21\",\n",
    "    \"eb_units\": 125,\n",
    "    \"filter_waste\": 34,\n",
    "    \"flat_waste\": 54,\n",
    "    \"godown\": \"A\",\n",
    "    \"machine_id\": \"C1\",\n",
    "    \"machine_type\": \"CARDING\",\n",
    "    \"no of sider\": 2,\n",
    "    \"powder_waste\": 34,\n",
    "    \"rotor_waste\": 0,\n",
    "    \"running_hours\": 10,\n",
    "    \"shift\": \"C\",\n",
    "    \"sider_name1\": \"RAVI\",\n",
    "    \"sider_name2\": \"SHEELA\",\n",
    "    \"sider_name3\": 0,\n",
    "    \"slaver_waste\": 2,\n",
    "    \"sweep_waste\": 27,\n",
    "    \"yarn_wasgte\": 0\n",
    "  },\n",
    "]"
   ]
  },
  {
   "cell_type": "code",
   "execution_count": null,
   "metadata": {},
   "outputs": [],
   "source": [
    "print(json.dumps(sample_json))\n",
    "es.inde./ela.x(index='oe-index-1', doc_type='oe-prdn', id=1,body=json.dumps(sample_json))"
   ]
  },
  {
   "cell_type": "code",
   "execution_count": null,
   "metadata": {},
   "outputs": [],
   "source": []
  }
 ],
 "metadata": {
  "kernelspec": {
   "display_name": "Python 3",
   "language": "python",
   "name": "python3"
  },
  "language_info": {
   "codemirror_mode": {
    "name": "ipython",
    "version": 3
   },
   "file_extension": ".py",
   "mimetype": "text/x-python",
   "name": "python",
   "nbconvert_exporter": "python",
   "pygments_lexer": "ipython3",
   "version": "3.7.1"
  }
 },
 "nbformat": 4,
 "nbformat_minor": 2
}
